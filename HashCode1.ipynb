{
  "nbformat": 4,
  "nbformat_minor": 0,
  "metadata": {
    "colab": {
      "provenance": []
    },
    "kernelspec": {
      "name": "python3",
      "display_name": "Python 3"
    },
    "language_info": {
      "name": "python"
    }
  },
  "cells": [
    {
      "cell_type": "code",
      "execution_count": null,
      "metadata": {
        "id": "wBq_GX92P129"
      },
      "outputs": [],
      "source": [
        "def str2bin(msg):\n",
        "  out=\"\"\n",
        "  for i in msg:\n",
        "    binary=bin(ord(i))\n",
        "    out=out+binary[2:]\n",
        "  if(len(out)%64!=0):\n",
        "    while(len(out)%64!=0):\n",
        "      out='0'+out\n",
        "  return out"
      ]
    },
    {
      "cell_type": "code",
      "source": [
        "str2bin(\"Kunj Joshi\")"
      ],
      "metadata": {
        "colab": {
          "base_uri": "https://localhost:8080/",
          "height": 35
        },
        "id": "jV8GdN73QH6K",
        "outputId": "e7696161-a140-4bb7-a498-0951396b1058"
      },
      "execution_count": null,
      "outputs": [
        {
          "output_type": "execute_result",
          "data": {
            "text/plain": [
              "'00000000000000000000000000000000000000000000000000000000000100101111101011101110110101010000010010101101111111001111010001101001'"
            ],
            "application/vnd.google.colaboratory.intrinsic+json": {
              "type": "string"
            }
          },
          "metadata": {},
          "execution_count": 2
        }
      ]
    },
    {
      "cell_type": "code",
      "source": [
        "def keygen(keymsg):\n",
        "  string=str2bin(keymsg)\n",
        "  binkey=string[2:]\n",
        "  if(len(binkey)%64!=0):\n",
        "    while(len(binkey)%64!=0):\n",
        "      binkey='0'+binkey\n",
        "    return binkey\n",
        "  else:\n",
        "    return binkey\n"
      ],
      "metadata": {
        "id": "4glCpTn-QP5p"
      },
      "execution_count": null,
      "outputs": []
    },
    {
      "cell_type": "code",
      "source": [
        "keygen(\"981fa451\")"
      ],
      "metadata": {
        "colab": {
          "base_uri": "https://localhost:8080/",
          "height": 35
        },
        "id": "wVUvm6MsQfyL",
        "outputId": "549b6060-912a-4f7c-e647-2fed4c9e3a8d"
      },
      "execution_count": null,
      "outputs": [
        {
          "output_type": "execute_result",
          "data": {
            "text/plain": [
              "'0000000000000011100111100011000111001101100001110100110101110001'"
            ],
            "application/vnd.google.colaboratory.intrinsic+json": {
              "type": "string"
            }
          },
          "metadata": {},
          "execution_count": 4
        }
      ]
    },
    {
      "cell_type": "code",
      "source": [
        "def int2bin(number):\n",
        "  binkey=bin(number)[2:]\n",
        "  if(len(binkey)%64!=0):\n",
        "    while(len(binkey)%64!=0):\n",
        "      binkey='0'+binkey\n",
        "    return binkey\n",
        "  else:\n",
        "    return binkey"
      ],
      "metadata": {
        "id": "kYd8HDecQnDm"
      },
      "execution_count": null,
      "outputs": []
    },
    {
      "cell_type": "code",
      "source": [
        "int2bin(78654)"
      ],
      "metadata": {
        "colab": {
          "base_uri": "https://localhost:8080/",
          "height": 35
        },
        "id": "RYwddLS3RZDp",
        "outputId": "714ebc41-c2e1-4338-81a1-34a4ece2eb74"
      },
      "execution_count": null,
      "outputs": [
        {
          "output_type": "execute_result",
          "data": {
            "text/plain": [
              "'0000000000000000000000000000000000000000000000010011001100111110'"
            ],
            "application/vnd.google.colaboratory.intrinsic+json": {
              "type": "string"
            }
          },
          "metadata": {},
          "execution_count": 6
        }
      ]
    },
    {
      "cell_type": "code",
      "source": [
        "def xor(bin1,bin2):\n",
        "  out=\"\"\n",
        "  for i in range(64):\n",
        "    out=out+str(int(bin1[i])^int(bin2[i]))\n",
        "    #print(bin1[i],' ',bin2[i],' ',out[i])\n",
        "  return out\n"
      ],
      "metadata": {
        "id": "SWrXHit7Rc_E"
      },
      "execution_count": null,
      "outputs": []
    },
    {
      "cell_type": "code",
      "source": [
        "def AND(bin1,bin2):\n",
        "  out=\"\"\n",
        "  for i in range(64):\n",
        "    out=out+str(int(bin1[i])&int(bin2[i]))\n",
        "    #print(bin1[i],' ',bin2[i],' ',out[i])\n",
        "  return out"
      ],
      "metadata": {
        "id": "VldtuW21RjSB"
      },
      "execution_count": null,
      "outputs": []
    },
    {
      "cell_type": "code",
      "source": [
        "def OR(bin1,bin2):\n",
        "  out=\"\"\n",
        "  for i in range(64):\n",
        "    out=out+str(int(bin1[i])|int(bin2[i]))\n",
        "    #print(bin1[i],' ',bin2[i],' ',out[i])\n",
        "  return out"
      ],
      "metadata": {
        "id": "-9-Z7D3sRmlm"
      },
      "execution_count": null,
      "outputs": []
    },
    {
      "cell_type": "code",
      "source": [
        "def NOT(bin1):\n",
        "  out=\"\"\n",
        "  for i in range(64):\n",
        "    if(bin1[i]=='0'):\n",
        "      out=out+'1'\n",
        "    else:\n",
        "      out=out+'0'\n",
        "    #print(bin1[i],' ',out[i])\n",
        "  return out"
      ],
      "metadata": {
        "id": "9Cyg8-5vRp_k"
      },
      "execution_count": null,
      "outputs": []
    },
    {
      "cell_type": "code",
      "source": [
        "def ls(bin,n):\n",
        "  out=''\n",
        "  for i in range(64):\n",
        "    out=out+bin[(i+n)%64]\n",
        "    #print(bin[i],' ',out[i])\n",
        "  return out\n"
      ],
      "metadata": {
        "id": "d9bCvrvTRtoN"
      },
      "execution_count": null,
      "outputs": []
    },
    {
      "cell_type": "code",
      "source": [
        "def rs(bin,n):\n",
        "  out=''\n",
        "  for i in range(64):\n",
        "    out=out+bin[(i-n)%64]\n",
        "    #print(bin[i],' ',out[i])\n",
        "  return out\n"
      ],
      "metadata": {
        "id": "z4-L6LhRRxdV"
      },
      "execution_count": null,
      "outputs": []
    },
    {
      "cell_type": "code",
      "source": [
        "import math"
      ],
      "metadata": {
        "id": "OUPKYjWbR2ex"
      },
      "execution_count": null,
      "outputs": []
    },
    {
      "cell_type": "code",
      "source": [
        "int(keygen(\"98u23fgath\"),2)"
      ],
      "metadata": {
        "colab": {
          "base_uri": "https://localhost:8080/"
        },
        "id": "UyzyH3rKR5QT",
        "outputId": "e2790957-c3e1-4717-c267-cf5a76943cf3"
      },
      "execution_count": null,
      "outputs": [
        {
          "output_type": "execute_result",
          "data": {
            "text/plain": [
              "66741910096366303848"
            ]
          },
          "metadata": {},
          "execution_count": 14
        }
      ]
    },
    {
      "cell_type": "code",
      "source": [
        "int(math.pow(66741910096366303848,0.125))"
      ],
      "metadata": {
        "colab": {
          "base_uri": "https://localhost:8080/"
        },
        "id": "HS2-tZxsShL0",
        "outputId": "9522dcff-a2c1-4c34-9c3b-b4b2381d2c09"
      },
      "execution_count": null,
      "outputs": [
        {
          "output_type": "execute_result",
          "data": {
            "text/plain": [
              "300"
            ]
          },
          "metadata": {},
          "execution_count": 15
        }
      ]
    },
    {
      "cell_type": "code",
      "source": [
        "def avcgen(msg,key):\n",
        "  decmsg=int(str2bin(msg),2)\n",
        "  deckey=int(keygen(key),2)\n",
        "  rem=decmsg%deckey\n",
        "  avc=int2bin(rem)\n",
        "  return avc"
      ],
      "metadata": {
        "id": "OTTjxATzTVtx"
      },
      "execution_count": null,
      "outputs": []
    },
    {
      "cell_type": "code",
      "source": [
        "avcgen(\"Kunj Joshi\",\"76yh120olka\")"
      ],
      "metadata": {
        "colab": {
          "base_uri": "https://localhost:8080/",
          "height": 35
        },
        "id": "8zuiPpZwT0uS",
        "outputId": "a7f4bc66-62ab-45cd-9d93-ee25c05e14ec"
      },
      "execution_count": null,
      "outputs": [
        {
          "output_type": "execute_result",
          "data": {
            "text/plain": [
              "'00000000000000000000000000000000000000000000000000000000000100101111101011101110110101010000010010101101111111001111010001101001'"
            ],
            "application/vnd.google.colaboratory.intrinsic+json": {
              "type": "string"
            }
          },
          "metadata": {},
          "execution_count": 17
        }
      ]
    },
    {
      "cell_type": "code",
      "source": [
        "def numgen(key):\n",
        "  deckey=int(keygen(key),2)\n",
        "  num=deckey\n",
        "  if(num%64==0):\n",
        "    return num\n",
        "  else:\n",
        "    while(num%64!=0):\n",
        "      num=num+1\n",
        "    return num"
      ],
      "metadata": {
        "id": "IbZe7TrsT9Jp"
      },
      "execution_count": null,
      "outputs": []
    },
    {
      "cell_type": "code",
      "source": [
        "math.pow(numgen(\"zzzzzz\"),0.5)"
      ],
      "metadata": {
        "colab": {
          "base_uri": "https://localhost:8080/"
        },
        "id": "agxykm3OUUo5",
        "outputId": "9a84ab10-526a-4dea-c6da-126b8af10b33"
      },
      "execution_count": null,
      "outputs": [
        {
          "output_type": "execute_result",
          "data": {
            "text/plain": [
              "2055454.9553964932"
            ]
          },
          "metadata": {},
          "execution_count": 19
        }
      ]
    },
    {
      "cell_type": "code",
      "source": [
        "def usemsg(msg,key):\n",
        "  num=numgen(key)\n",
        "  num=(math.pow(num,0.5))\n",
        "  #print(num)\n",
        "  avc=avcgen(msg,key)\n",
        "  binmsg=str2bin(msg)\n",
        "  #print(len(binmsg))\n",
        "  num2=num-64\n",
        "  binmsg=binmsg+'101'\n",
        "  binmsg=binmsg+avc\n",
        "  str0='0'*1000\n",
        "  while(len(binmsg)<num):\n",
        "    binmsg=binmsg+str0\n",
        "  while(len(binmsg)<num):\n",
        "    binmsg=binmsg+'0'\n",
        "  return binmsg"
      ],
      "metadata": {
        "id": "xHSZdWf-UXY2"
      },
      "execution_count": null,
      "outputs": []
    },
    {
      "cell_type": "code",
      "source": [
        "usemsg(\"kjcool\",\"765r\")"
      ],
      "metadata": {
        "colab": {
          "base_uri": "https://localhost:8080/",
          "height": 122
        },
        "id": "8Ppkp0GWVKQE",
        "outputId": "4d4b28f7-2118-46ad-f3f4-c568c3c40d9b"
      },
      "execution_count": null,
      "outputs": [
        {
          "output_type": "execute_result",
          "data": {
            "text/plain": [
              "'00000000000000000000001101011110101011000111101111110111111011001010000000000000000000000000000000000000000001111010001011011111100000000000000000000000000000000000000000000000000000000000000000000000000000000000000000000000000000000000000000000000000000000000000000000000000000000000000000000000000000000000000000000000000000000000000000000000000000000000000000000000000000000000000000000000000000000000000000000000000000000000000000000000000000000000000000000000000000000000000000000000000000000000000000000000000000000000000000000000000000000000000000000000000000000000000000000000000000000000000000000000000000000000000000000000000000000000000000000000000000000000000000000000000000000000000000000000000000000000000000000000000000000000000000000000000000000000000000000000000000000000000000000000000000000000000000000000000000000000000000000000000000000000000000000000000000000000000000000000000000000000000000000000000000000000000000000000000000000000000000000000000000000000000000000000000000000000000000000000000000000000000000000000000000000000000000000000000000000000000000000000000000000000000000000000000000000000000000000000000000000000000000000000000000000000000000000000000000000000000000000000000000000000000000000000000000000000000000000000000000000000000000000000000000000000000000000000000000000000000000000000000000000000000000000000000000000000000000000000000000000000000000000000000000000000000000000000000000000000000000000000000000000000000000000000000000000000000000000000000000000000000000000000000000000000000000000000000000000000000000000000000000000000000000000000000000000000000000000000000000000000000000000000000000000000000000000000000000000000000000000000000000000000000000000000000000000000000000000000000000000000000000000000000000000000000000000000000000000000000000000000000000000000000000000000000000000000000000000000000000000000000000000000000000000000000000000000000000000000000000000000000000000000000000000000000000000000000000000000000000000000000000000000000000000000000000000000000000000000000000000000000000000000000000000000000000000000000000000000000000000000000000000000000000000000000000000000000000000000000000000000000000000000000000000000000000000000000000000000000000000000000000000000000000000000000000000000000000000000000000000000000000000000000000000000000000000000000000000000000000000000000000000000000000000000000000000000000000000000000000000000000000000000000000000000000000000000000000000000000000000000000000000000000000000000000000000000000000000000000000000000000000000000000000000000000000000000000000000000000000000000000000000000000000000000000000000000000000000000000000000000000000000000000000000000000000000000000000000000000000000000000000000000000000000000000000000000000000000000000000000000000000000000000000000000000000000000000000000000000000000000000000000000000000000000000000000000000000000000000000000000000000000000000000000000000000000000000000000000000000000000000000000000000000000000000000000000000000000000000000000000000000000000000000000000000000000000000000000000000000000000000000000000000000000000000000000000000000000000000000000000000000000000000000000000000000000000000000000000000000000000000000000000000000000000000000000000000000000000000000000000000000000000000000000000000000000000000000000000000000000000000000000000000000000000000000000000000000000000000000000000000000000000000000000000000000000000000000000000000000000000000000000000000000000000000000000000000000000000000000000000000000000000000000000000000000000000000000000000000000000000000000000000000000000000000000000000000000000000000000000000000000000000000000000000000000000000000000000000000000000000000000000000000000000000000000000000000000000000000000000000000000000000000000000000000000000000000000000000000000000000000000000000000000000000000000000000000000000000000000000000000000000000000000000000000000000000000000000000000000000000000000000000000000000000000000000000000000000000000000000000000000000000000000000000000000000000000000000000000000000000000000000000000000000000000000000000000000000000000000000000000000000000000000000000000000000000000000000000000000000000000000000000000000000000000000000000000000000000000000000000000000000000000000000000000000000000000000000000000000000000000000000000000000000000000000000000000000000000000000000000000000000000000000000000000000000000000000000000000000000000000000000000000000000000000000000000000000000000000000000000000000000000000000000000000000000000000000000000000000000000000000000000000000000000000000000000000000000000000000000000000000000000000000000000000000000000000000000000000000000000000000000000000000000000000000000000000000000000000000000000000000000000000000000000000000000000000000000000000000000000000000000000000000000000000000000000000000000000000000000000000000000000000000000000000000000000000000000000000000000000000000000000000000000000000000000000000000000000000000000000000000000000000000000000000000000000000000000000000000000000000000000000000000000000000000000000000000000000000000000000000000000000000000000000000000000000000000000000000000000000000000000000000000000000000000000000000000000000000000000000000000000000000000000000000000000000000000000000000000000000000000000000000000000000000000000000000000000000000000000000000000000000000000000000000000000000000000000000000000000000000000000000000000000000000000000000000000000000000000000000000000000000000000000000000000000000000000000000000000000000000000000000000000000000000000000000000000000000000000000000000000000000000000000000000000000000000000000000000000000000000000000000000000000000000000000000000000000000000000000000000000000000000000000000000000000000000000000000000000000000000000000000000000000000000000000000000000000000000000000000000000000000000000000000000000000000000000000000000000000000000000000000000000000000000000000000000000000000000000000000000000000000000000000000000000000000000000000000000000000000000000000000000000000000000000000000000000000000000000000000000000000000000000000000000000000000000000000000000000000000000000000000000000000000000000000000000000000000000000000000000'"
            ],
            "application/vnd.google.colaboratory.intrinsic+json": {
              "type": "string"
            }
          },
          "metadata": {},
          "execution_count": 21
        }
      ]
    },
    {
      "cell_type": "code",
      "source": [
        "def numbergen(key):\n",
        "  deckey=int(keygen(key),2)\n",
        "  if(deckey%2==0):\n",
        "    deckey=int(math.pow(deckey,0.125))\n",
        "  else:\n",
        "    deckey=int(math.pow(deckey,0.2))\n",
        "  print(deckey)\n",
        "  count=0\n",
        "  numberlist=[]\n",
        "  prime=deckey\n",
        "  while(count!=8):\n",
        "    for i in range(prime-1,0,-1):\n",
        "      if(prime%i==0 and i!=1):\n",
        "        prime=prime+1\n",
        "        break\n",
        "      elif(prime%i==0 and i==1):\n",
        "        numberlist.append(prime)\n",
        "        count=count+1\n",
        "        prime=prime+1\n",
        "        break\n",
        "  return numberlist"
      ],
      "metadata": {
        "id": "b5CAIOaAVQ2v"
      },
      "execution_count": null,
      "outputs": []
    },
    {
      "cell_type": "code",
      "source": [
        "nlist=numbergen(\"ikea123\")"
      ],
      "metadata": {
        "colab": {
          "base_uri": "https://localhost:8080/"
        },
        "id": "a2ZZxCkBWJA-",
        "outputId": "9046ddad-b399-45e2-f8e2-bc2f7c589f66"
      },
      "execution_count": null,
      "outputs": [
        {
          "output_type": "stream",
          "name": "stdout",
          "text": [
            "566\n"
          ]
        }
      ]
    },
    {
      "cell_type": "code",
      "source": [
        "def numassign(numberlist):\n",
        "  for i in range(len(numberlist)):\n",
        "    numberlist[i]=int2bin(numberlist[i])\n",
        "  A=['A','B','C','D','E','F','G','H']\n",
        "  dic=dict(zip(A,numberlist))\n",
        "  return dic"
      ],
      "metadata": {
        "id": "5KmT19ZWWi4G"
      },
      "execution_count": null,
      "outputs": []
    },
    {
      "cell_type": "code",
      "source": [
        "numassign(nlist)"
      ],
      "metadata": {
        "colab": {
          "base_uri": "https://localhost:8080/"
        },
        "id": "F-KrsHezW9Rx",
        "outputId": "cfafb916-1e87-4002-e6d2-3dfa901c4ee8"
      },
      "execution_count": null,
      "outputs": [
        {
          "output_type": "execute_result",
          "data": {
            "text/plain": [
              "{'A': '0000000000000000000000000000000000000000000000000000001000111001',\n",
              " 'B': '0000000000000000000000000000000000000000000000000000001000111011',\n",
              " 'C': '0000000000000000000000000000000000000000000000000000001001000001',\n",
              " 'D': '0000000000000000000000000000000000000000000000000000001001001011',\n",
              " 'E': '0000000000000000000000000000000000000000000000000000001001010001',\n",
              " 'F': '0000000000000000000000000000000000000000000000000000001001010111',\n",
              " 'G': '0000000000000000000000000000000000000000000000000000001001011001',\n",
              " 'H': '0000000000000000000000000000000000000000000000000000001001011111'}"
            ]
          },
          "metadata": {},
          "execution_count": 25
        }
      ]
    },
    {
      "cell_type": "code",
      "source": [
        "def msgdivide(msg,key):\n",
        "  newmsg=usemsg(msg,key)\n",
        "  a=0\n",
        "  b=64\n",
        "  msglist=[]\n",
        "  while(b<=len(newmsg)):\n",
        "    msglist.append(newmsg[a:b])\n",
        "    a=b\n",
        "    b=b+64\n",
        "  return msglist"
      ],
      "metadata": {
        "id": "qRHCdAO1XDth"
      },
      "execution_count": null,
      "outputs": []
    },
    {
      "cell_type": "code",
      "source": [
        "len(msgdivide(\"Kunj J Joshi\",\"kuhd\"))"
      ],
      "metadata": {
        "colab": {
          "base_uri": "https://localhost:8080/"
        },
        "id": "MVVnl4kvXKkC",
        "outputId": "d3a98bee-7f1d-41a4-dbd6-94b5480f6ae1"
      },
      "execution_count": null,
      "outputs": [
        {
          "output_type": "execute_result",
          "data": {
            "text/plain": [
              "237"
            ]
          },
          "metadata": {},
          "execution_count": 27
        }
      ]
    },
    {
      "cell_type": "code",
      "source": [
        "226325632/64"
      ],
      "metadata": {
        "colab": {
          "base_uri": "https://localhost:8080/"
        },
        "id": "ZVldSXukYlhU",
        "outputId": "aaf4babf-e3dd-4277-bbf3-c87b9025cad3"
      },
      "execution_count": null,
      "outputs": [
        {
          "output_type": "execute_result",
          "data": {
            "text/plain": [
              "3536338.0"
            ]
          },
          "metadata": {},
          "execution_count": 28
        }
      ]
    },
    {
      "cell_type": "code",
      "source": [
        "def fun0(a,b,c,d,e,f,g,h,i):\n",
        "  if(i%24==0):\n",
        "    a=xor(AND(xor(a,ls(f,2)),OR(c,NOT(d))),ls(xor(AND(e,NOT(b)),OR(h,g)),2))\n",
        "    b=AND(OR(OR(ls(b,3),d),xor(f,c)),OR(AND(ls(g,2),e),xor(a,NOT(h))))\n",
        "    c=xor(OR(AND(c,a),xor(b,e)),xor(rs(AND(g,ls(f,2)),3),AND(NOT(d),h)))\n",
        "    d=AND(xor(rs(AND(d,h),2),OR(c,a)),OR(xor(b,g),AND(f,NOT(e))))\n",
        "    e=xor(OR(AND(e,a),xor(NOT(c),d)),OR(AND(ls(b,3),h),xor(f,g)))\n",
        "    f=AND(OR(AND(f,NOT(d)),ls(OR(c,e),2)),xor(xor(g,h),AND(b,a)))\n",
        "    g=xor(xor(AND(NOT(g),e),OR(f,c)),AND(AND(a,NOT(d)),xor(b,h)))\n",
        "    h=AND(AND(OR(h,f),xor(a,d)),OR(AND(g,b),NOT(OR(c,ls(e,2)))))\n",
        "    return a,b,c,d,e,f,g,h\n",
        "  elif(i%16==0):\n",
        "    a=OR(ls(xor(OR(a,f),NOT(AND(b,e))),2),AND(xor(c,g),AND(d,h)))\n",
        "    b=xor(xor(AND(b,h),xor(c,ls(a,2))),xor(OR(g,d),AND(e,NOT(f))))\n",
        "    c=OR(AND(AND(c,g),AND(a,e)),ls(xor(xor(d,b),OR(f,NOT(h))),3))\n",
        "    d=AND(OR(AND(ls(d,3),e),AND(a,b)),xor(OR(c,f),xor(g,h)))\n",
        "    e=xor(xor(AND(e,h),xor(a,f)),NOT(AND(OR(b,c),xor(d,NOT(g)))))\n",
        "    f=xor(AND(xor(f,c),xor(e,b)),xor(xor(a,ls(h,3)),xor(d,g)))\n",
        "    g=AND(xor(AND(g,e),AND(b,f)),xor(OR(a,c),AND(d,h)))\n",
        "    h=xor(AND(OR(h,ls(c,2)),NOT(AND(a,f))),xor(OR(b,d),xor(e,NOT(g))))\n",
        "    return a,b,c,d,e,f,g,h\n",
        "  elif(i%8==0):\n",
        "     a=xor(xor(OR(a,NOT(g)),AND(ls(c,3),d)),AND(OR(b,h),AND(e,f)))\n",
        "     b=xor(xor(AND(b,c),xor(d,e)),xor(xor(f,g),xor(a,h)))\n",
        "     c=OR(OR(AND(c,g),xor(f,NOT(a))),OR(AND(e,b),AND(d,h)))\n",
        "     d=AND(xor(OR(d,e),xor(a,h)),ls(AND(xor(f,NOT(c)),AND(b,g)),2))\n",
        "     e=xor(OR(AND(e,f),AND(d,g)),ls(xor(AND(c,b),xor(a,h)),3))\n",
        "     f=OR(xor(AND(f,b),AND(c,NOT(a))),ls(xor(AND(e,g),NOT(xor(d,h))),2))\n",
        "     g=AND(xor(AND(g,a),AND(c,d)),xor(OR(b,e),OR(f,h)))\n",
        "     h=OR(AND(xor(h,b),AND(c,d)),AND(xor(e,a),NOT(xor(f,g))))\n",
        "     return a,b,c,d,e,f,g,h\n",
        "  else:\n",
        "    a=int2bin(int(a,2)+4)\n",
        "    b=int2bin(int(b,2)+4)\n",
        "    c=int2bin(int(c,2)+4)\n",
        "    d=int2bin(int(d,2)+4)\n",
        "    e=int2bin(int(e,2)+4)\n",
        "    f=int2bin(int(f,2)+4)\n",
        "    g=int2bin(int(g,2)+4)\n",
        "    h=int2bin(int(h,2)+4)\n",
        "    return a,b,c,d,e,f,g,h"
      ],
      "metadata": {
        "id": "VONTYLCkaQXx"
      },
      "execution_count": null,
      "outputs": []
    },
    {
      "cell_type": "code",
      "source": [
        "def fun1(a,b,c,d,e,f,g,h,i):\n",
        "    \n",
        "    if(i%24==0):\n",
        "       a=xor(AND(xor(c,ls(g,2)),OR(d,NOT(a))),ls(xor(AND(b,NOT(h)),OR(f,e)),2))\n",
        "       b=AND(OR(OR(ls(h,3),a),xor(g,d)),OR(AND(ls(e,2),b),xor(c,NOT(f))))\n",
        "       c=xor(OR(AND(d,c),xor(h,b)),xor(rs(AND(e,ls(g,2)),3),AND(NOT(a),f)))\n",
        "       d=AND(xor(rs(AND(a,f),2),OR(d,c)),OR(xor(h,e),AND(g,NOT(b))))\n",
        "       e=xor(OR(AND(b,c),xor(NOT(d),a)),OR(AND(ls(h,3),f),xor(g,e)))\n",
        "       f=AND(OR(AND(g,NOT(d)),ls(OR(d,b),2)),xor(xor(e,f),AND(h,c)))\n",
        "       g=xor(xor(AND(NOT(e),b),OR(g,d)),AND(AND(a,NOT(d)),xor(h,f)))\n",
        "       h=AND(AND(OR(f,g),xor(c,a)),OR(AND(e,h),NOT(OR(d,ls(b,2)))))\n",
        "       return a,b,c,d,e,f,g,h\n",
        "    if(i%16==0):\n",
        "        a=OR(ls(xor(OR(c,g),NOT(AND(h,b))),2),AND(xor(d,e),AND(a,f)))\n",
        "        b=xor(xor(AND(h,f),xor(d,ls(c,2))),xor(OR(e,a),AND(b,NOT(g))))\n",
        "        c=OR(AND(AND(d,e),AND(c,b)),ls(xor(xor(a,h),OR(g,NOT(f))),3))\n",
        "        d=AND(OR(AND(ls(a,3),b),AND(c,h)),xor(OR(d,g),xor(e,f)))\n",
        "        e=xor(xor(AND(b,f),xor(c,g)),NOT(AND(OR(h,d),xor(a,NOT(g)))))\n",
        "        f=xor(AND(xor(g,d),xor(b,h)),xor(xor(c,ls(f,3)),xor(a,e)))\n",
        "        g=AND(xor(AND(e,b),AND(h,g)),xor(OR(c,d),AND(a,f)))\n",
        "        h=xor(AND(OR(f,ls(d,2)),NOT(AND(c,g))),xor(OR(h,a),xor(b,NOT(g))))\n",
        "        return a,b,c,d,e,f,g,h\n",
        "    if(i%8==0):\n",
        "        a=xor(xor(OR(c,NOT(e)),AND(ls(d,3),a)),AND(OR(h,f),AND(b,g)))\n",
        "        b=xor(xor(AND(h,d),xor(a,b)),xor(xor(g,e),xor(c,f)))\n",
        "        c=OR(OR(AND(d,e),xor(g,NOT(a))),OR(AND(b,h),AND(a,f)))\n",
        "        d=AND(xor(OR(a,b),xor(c,f)),ls(AND(xor(g,NOT(d)),AND(h,e)),2))\n",
        "        e=xor(OR(AND(b,g),AND(a,e)),ls(xor(AND(d,h),xor(c,f)),3))\n",
        "        f=OR(xor(AND(g,h),AND(d,NOT(c))),ls(xor(AND(b,e),NOT(xor(a,f))),2))\n",
        "        g=AND(xor(AND(e,c),AND(d,a)),xor(OR(h,b),OR(g,f)))\n",
        "        h=OR(AND(xor(f,h),AND(d,a)),AND(xor(b,c),NOT(xor(g,e))))\n",
        "        return a,b,c,d,e,f,g,h\n",
        "    else:\n",
        "       a=int2bin(int(a,2)+2)\n",
        "       b=int2bin(int(b,2)+2)\n",
        "       c=int2bin(int(c,2)+2)\n",
        "       d=int2bin(int(d,2)+2)\n",
        "       e=int2bin(int(e,2)+2)\n",
        "       f=int2bin(int(f,2)+2)\n",
        "       g=int2bin(int(g,2)+2)\n",
        "       h=int2bin(int(h,2)+2)\n",
        "       return a,b,c,d,e,f,g,h"
      ],
      "metadata": {
        "id": "vEzkuY8Zaauq"
      },
      "execution_count": null,
      "outputs": []
    },
    {
      "cell_type": "code",
      "source": [
        "def hashgen(msg,key):\n",
        "  newmsg=usemsg(msg,key)\n",
        "  msglist=msgdivide(msg,key)\n",
        "  nlist=numbergen(key)\n",
        "  dic=numassign(nlist)\n",
        "  A,B,C,D,E,F,G,H=dic.values()\n",
        "  for i in range(len(msglist)):\n",
        "    if(i%8==0):\n",
        "      A=xor(A,msglist[i])\n",
        "    elif(i%8==1):\n",
        "      B=xor(B,msglist[i])\n",
        "    elif(i%8==2):\n",
        "      C=xor(C,msglist[i])\n",
        "    elif(i%8==3):\n",
        "      D=xor(D,msglist[i])\n",
        "    elif(i%8==4):\n",
        "      E=xor(E,msglist[i])\n",
        "    elif(i%8==5):\n",
        "      F=xor(F,msglist[i])\n",
        "    elif(i%8==6):\n",
        "      G=xor(G,msglist[i])\n",
        "    elif(i%8==7):\n",
        "      H=xor(H,msglist[i])\n",
        "    if(H[len(H)-1]=='1'):\n",
        "      A,B,C,D,E,F,G,H=fun1(A,B,C,D,E,F,G,H,i)\n",
        "    elif(H[len(H)-1]=='0'):\n",
        "      A,B,C,D,E,F,G,H=fun0(A,B,C,D,E,F,G,H,i)\n",
        "  A=ls(A,3)\n",
        "  B=ls(B,3)\n",
        "  C=ls(C,3)\n",
        "  D=ls(D,3)\n",
        "  E=ls(E,3)\n",
        "  F=ls(F,3)\n",
        "  G=ls(G,3)\n",
        "  H=ls(H,3)\n",
        "  finmsg=A+B+C+D+E+F+G+H\n",
        "  decmsg=int(finmsg,2)\n",
        "  factlist=[]\n",
        "  for i in range(2,512):\n",
        "    if((decmsg%i==0)):\n",
        "      factlist.append(512-i)\n",
        "  print(factlist)\n",
        "  for fact in factlist:\n",
        "    finmsg=finmsg[:fact]+'1'+finmsg[fact+1:]\n",
        "  print(finmsg)\n",
        "  start=0\n",
        "  end=4\n",
        "  declist=[]\n",
        "  while(end<=len(finmsg)):\n",
        "    declist.append(hex(int(finmsg[start:end],2)))\n",
        "    start=end\n",
        "    end=end+4\n",
        "  hexhash=\"\"\n",
        "  for i in range(len(declist)):\n",
        "    hexhash=hexhash+declist[i][2:]\n",
        "  #print(hexhash)\n",
        "  return hexhash\n"
      ],
      "metadata": {
        "id": "MnQm1nJMafWy"
      },
      "execution_count": null,
      "outputs": []
    },
    {
      "cell_type": "code",
      "source": [
        "len(hashgen(\"hhhaab\",\"54325\"))"
      ],
      "metadata": {
        "colab": {
          "base_uri": "https://localhost:8080/"
        },
        "id": "H2gsoR5qbRkW",
        "outputId": "10da47e5-eaab-4599-e5b8-2112233e6af8"
      },
      "execution_count": null,
      "outputs": [
        {
          "output_type": "stream",
          "name": "stdout",
          "text": [
            "61\n",
            "[510, 509, 508, 506, 503, 500, 494, 476]\n",
            "10000010110001000100000110010000010100000000110110001000010000100100001100010001100111010101001111100100111111111111000010110010111010111101010011110111110111011100001000001100011000011111100100000100000000001000000000011000010000000000110010000000101100000001010100111010100001010110111100001010011110111000010100010111010010110101100010110110010100011101100100110111011111001011001001000010000000001001000100010100110000100000010101100100111100110100001011000111101010011011100011011011010011100110110111101110\n"
          ]
        },
        {
          "output_type": "execute_result",
          "data": {
            "text/plain": [
              "128"
            ]
          },
          "metadata": {},
          "execution_count": 32
        }
      ]
    },
    {
      "cell_type": "markdown",
      "source": [
        "7417115120 keys possible"
      ],
      "metadata": {
        "id": "fNV5JQNAfbGH"
      }
    },
    {
      "cell_type": "code",
      "source": [
        "128*4"
      ],
      "metadata": {
        "id": "ZuryyKFPfrIE",
        "colab": {
          "base_uri": "https://localhost:8080/"
        },
        "outputId": "6516f06c-f507-44ab-9eed-1203b0588947"
      },
      "execution_count": null,
      "outputs": [
        {
          "output_type": "execute_result",
          "data": {
            "text/plain": [
              "512"
            ]
          },
          "metadata": {},
          "execution_count": 33
        }
      ]
    },
    {
      "cell_type": "code",
      "source": [
        "16*9"
      ],
      "metadata": {
        "id": "BL3wR1fBO1nC",
        "outputId": "721dfa78-d82e-4aa0-955f-2964418999a0",
        "colab": {
          "base_uri": "https://localhost:8080/"
        }
      },
      "execution_count": null,
      "outputs": [
        {
          "output_type": "execute_result",
          "data": {
            "text/plain": [
              "144"
            ]
          },
          "metadata": {},
          "execution_count": 34
        }
      ]
    }
  ]
}